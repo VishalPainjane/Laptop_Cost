{
 "cells": [
  {
   "cell_type": "markdown",
   "id": "048bc10a",
   "metadata": {},
   "source": [
    "### About Dataset\n",
    "Dataset consists of different laptops from a low budget, low end laptop to high budget, high end laptops and there spesifications listed their. \n",
    "\n",
    "Specification consists of following components:-\n",
    "- CPU\n",
    "- GPU\n",
    "- RAM\n",
    "- Storage\n",
    "- Touch Screen\n",
    "- Screen Dimentions\n",
    "- Laptop Brand\n",
    "- Total Price of Laptop"
   ]
  },
  {
   "cell_type": "markdown",
   "id": "648126ab",
   "metadata": {},
   "source": [
    "This dataset will help people get an idea of there budget and the specs of laptop they are buying."
   ]
  },
  {
   "cell_type": "markdown",
   "id": "2d5a1bdc",
   "metadata": {},
   "source": [
    "Dataset : https://www.kaggle.com/datasets/juanmerinobermejo/laptops-price-dataset/data"
   ]
  },
  {
   "cell_type": "markdown",
   "id": "ad0fff57",
   "metadata": {},
   "source": [
    "## Import libraries"
   ]
  },
  {
   "cell_type": "code",
   "execution_count": 3,
   "id": "94cceb0e",
   "metadata": {},
   "outputs": [],
   "source": [
    "import pandas as pd\n",
    "import numpy as np\n",
    "import seaborn as sns\n",
    "import matplotlib.pyplot as plt\n",
    "\n",
    "import warnings\n",
    "warnings.filterwarnings('ignore')\n",
    "\n",
    "\n",
    "\n",
    "from sklearn.compose import ColumnTransformer\n",
    "from sklearn.preprocessing import OneHotEncoder, FunctionTransformer\n",
    "from sklearn.pipeline import Pipeline, make_pipeline\n",
    "from sklearn.preprocessing import MinMaxScaler\n",
    "from sklearn.metrics import r2_score, mean_absolute_error\n",
    "from sklearn.linear_model import LinearRegression\n",
    "from sklearn.neighbors import KNeighborsRegressor\n",
    "from sklearn.linear_model import LogisticRegression\n",
    "from sklearn.tree import DecisionTreeRegressor\n",
    "from sklearn.ensemble import RandomForestRegressor, AdaBoostRegressor\n",
    "from sklearn.ensemble import GradientBoostingRegressor\n",
    "from sklearn.ensemble import ExtraTreesRegressor\n",
    "from xgboost import XGBRegressor as xgb\n",
    "from sklearn.model_selection import GridSearchCV\n",
    "from sklearn.base import BaseEstimator, TransformerMixin\n",
    "from sklearn.model_selection import train_test_split"
   ]
  },
  {
   "cell_type": "markdown",
   "id": "9fe30703",
   "metadata": {},
   "source": [
    "## Reading the CSV file and specifying the encoding"
   ]
  },
  {
   "cell_type": "code",
   "execution_count": 4,
   "id": "4414af65",
   "metadata": {
    "scrolled": true
   },
   "outputs": [
    {
     "data": {
      "text/html": [
       "<div>\n",
       "<style scoped>\n",
       "    .dataframe tbody tr th:only-of-type {\n",
       "        vertical-align: middle;\n",
       "    }\n",
       "\n",
       "    .dataframe tbody tr th {\n",
       "        vertical-align: top;\n",
       "    }\n",
       "\n",
       "    .dataframe thead th {\n",
       "        text-align: right;\n",
       "    }\n",
       "</style>\n",
       "<table border=\"1\" class=\"dataframe\">\n",
       "  <thead>\n",
       "    <tr style=\"text-align: right;\">\n",
       "      <th></th>\n",
       "      <th>Laptop</th>\n",
       "      <th>Status</th>\n",
       "      <th>Brand</th>\n",
       "      <th>Model</th>\n",
       "      <th>CPU</th>\n",
       "      <th>RAM</th>\n",
       "      <th>Storage</th>\n",
       "      <th>Storage type</th>\n",
       "      <th>GPU</th>\n",
       "      <th>Screen</th>\n",
       "      <th>Touch</th>\n",
       "      <th>Final Price</th>\n",
       "    </tr>\n",
       "  </thead>\n",
       "  <tbody>\n",
       "    <tr>\n",
       "      <th>0</th>\n",
       "      <td>ASUS ExpertBook B1 B1502CBA-EJ0436X Intel Core...</td>\n",
       "      <td>New</td>\n",
       "      <td>Asus</td>\n",
       "      <td>ExpertBook</td>\n",
       "      <td>Intel Core i5</td>\n",
       "      <td>8</td>\n",
       "      <td>512</td>\n",
       "      <td>SSD</td>\n",
       "      <td>NaN</td>\n",
       "      <td>15.6</td>\n",
       "      <td>No</td>\n",
       "      <td>1009.00</td>\n",
       "    </tr>\n",
       "    <tr>\n",
       "      <th>1</th>\n",
       "      <td>Alurin Go Start Intel Celeron N4020/8GB/256GB ...</td>\n",
       "      <td>New</td>\n",
       "      <td>Alurin</td>\n",
       "      <td>Go</td>\n",
       "      <td>Intel Celeron</td>\n",
       "      <td>8</td>\n",
       "      <td>256</td>\n",
       "      <td>SSD</td>\n",
       "      <td>NaN</td>\n",
       "      <td>15.6</td>\n",
       "      <td>No</td>\n",
       "      <td>299.00</td>\n",
       "    </tr>\n",
       "    <tr>\n",
       "      <th>2</th>\n",
       "      <td>ASUS ExpertBook B1 B1502CBA-EJ0424X Intel Core...</td>\n",
       "      <td>New</td>\n",
       "      <td>Asus</td>\n",
       "      <td>ExpertBook</td>\n",
       "      <td>Intel Core i3</td>\n",
       "      <td>8</td>\n",
       "      <td>256</td>\n",
       "      <td>SSD</td>\n",
       "      <td>NaN</td>\n",
       "      <td>15.6</td>\n",
       "      <td>No</td>\n",
       "      <td>789.00</td>\n",
       "    </tr>\n",
       "    <tr>\n",
       "      <th>3</th>\n",
       "      <td>MSI Katana GF66 12UC-082XES Intel Core i7-1270...</td>\n",
       "      <td>New</td>\n",
       "      <td>MSI</td>\n",
       "      <td>Katana</td>\n",
       "      <td>Intel Core i7</td>\n",
       "      <td>16</td>\n",
       "      <td>1000</td>\n",
       "      <td>SSD</td>\n",
       "      <td>RTX 3050</td>\n",
       "      <td>15.6</td>\n",
       "      <td>No</td>\n",
       "      <td>1199.00</td>\n",
       "    </tr>\n",
       "    <tr>\n",
       "      <th>4</th>\n",
       "      <td>HP 15S-FQ5085NS Intel Core i5-1235U/16GB/512GB...</td>\n",
       "      <td>New</td>\n",
       "      <td>HP</td>\n",
       "      <td>15S</td>\n",
       "      <td>Intel Core i5</td>\n",
       "      <td>16</td>\n",
       "      <td>512</td>\n",
       "      <td>SSD</td>\n",
       "      <td>NaN</td>\n",
       "      <td>15.6</td>\n",
       "      <td>No</td>\n",
       "      <td>669.01</td>\n",
       "    </tr>\n",
       "    <tr>\n",
       "      <th>...</th>\n",
       "      <td>...</td>\n",
       "      <td>...</td>\n",
       "      <td>...</td>\n",
       "      <td>...</td>\n",
       "      <td>...</td>\n",
       "      <td>...</td>\n",
       "      <td>...</td>\n",
       "      <td>...</td>\n",
       "      <td>...</td>\n",
       "      <td>...</td>\n",
       "      <td>...</td>\n",
       "      <td>...</td>\n",
       "    </tr>\n",
       "    <tr>\n",
       "      <th>2155</th>\n",
       "      <td>Razer Blade 17 FHD 360Hz Intel Core i7-11800H/...</td>\n",
       "      <td>Refurbished</td>\n",
       "      <td>Razer</td>\n",
       "      <td>Blade</td>\n",
       "      <td>Intel Core i7</td>\n",
       "      <td>16</td>\n",
       "      <td>1000</td>\n",
       "      <td>SSD</td>\n",
       "      <td>RTX 3060</td>\n",
       "      <td>17.3</td>\n",
       "      <td>No</td>\n",
       "      <td>2699.99</td>\n",
       "    </tr>\n",
       "    <tr>\n",
       "      <th>2156</th>\n",
       "      <td>Razer Blade 17 FHD 360Hz Intel Core i7-11800H/...</td>\n",
       "      <td>Refurbished</td>\n",
       "      <td>Razer</td>\n",
       "      <td>Blade</td>\n",
       "      <td>Intel Core i7</td>\n",
       "      <td>16</td>\n",
       "      <td>1000</td>\n",
       "      <td>SSD</td>\n",
       "      <td>RTX 3070</td>\n",
       "      <td>17.3</td>\n",
       "      <td>No</td>\n",
       "      <td>2899.99</td>\n",
       "    </tr>\n",
       "    <tr>\n",
       "      <th>2157</th>\n",
       "      <td>Razer Blade 17 FHD 360Hz Intel Core i7-11800H/...</td>\n",
       "      <td>Refurbished</td>\n",
       "      <td>Razer</td>\n",
       "      <td>Blade</td>\n",
       "      <td>Intel Core i7</td>\n",
       "      <td>32</td>\n",
       "      <td>1000</td>\n",
       "      <td>SSD</td>\n",
       "      <td>RTX 3080</td>\n",
       "      <td>17.3</td>\n",
       "      <td>No</td>\n",
       "      <td>3399.99</td>\n",
       "    </tr>\n",
       "    <tr>\n",
       "      <th>2158</th>\n",
       "      <td>Razer Book 13 Intel Evo Core i7-1165G7/16GB/1T...</td>\n",
       "      <td>Refurbished</td>\n",
       "      <td>Razer</td>\n",
       "      <td>Book</td>\n",
       "      <td>Intel Evo Core i7</td>\n",
       "      <td>16</td>\n",
       "      <td>1000</td>\n",
       "      <td>SSD</td>\n",
       "      <td>NaN</td>\n",
       "      <td>13.4</td>\n",
       "      <td>Yes</td>\n",
       "      <td>1899.99</td>\n",
       "    </tr>\n",
       "    <tr>\n",
       "      <th>2159</th>\n",
       "      <td>Razer Book FHD+ Intel Evo Core i7-1165G7/16GB/...</td>\n",
       "      <td>Refurbished</td>\n",
       "      <td>Razer</td>\n",
       "      <td>Book</td>\n",
       "      <td>Intel Evo Core i7</td>\n",
       "      <td>16</td>\n",
       "      <td>256</td>\n",
       "      <td>SSD</td>\n",
       "      <td>NaN</td>\n",
       "      <td>13.4</td>\n",
       "      <td>Yes</td>\n",
       "      <td>1699.99</td>\n",
       "    </tr>\n",
       "  </tbody>\n",
       "</table>\n",
       "<p>2160 rows × 12 columns</p>\n",
       "</div>"
      ],
      "text/plain": [
       "                                                 Laptop       Status   Brand  \\\n",
       "0     ASUS ExpertBook B1 B1502CBA-EJ0436X Intel Core...          New    Asus   \n",
       "1     Alurin Go Start Intel Celeron N4020/8GB/256GB ...          New  Alurin   \n",
       "2     ASUS ExpertBook B1 B1502CBA-EJ0424X Intel Core...          New    Asus   \n",
       "3     MSI Katana GF66 12UC-082XES Intel Core i7-1270...          New     MSI   \n",
       "4     HP 15S-FQ5085NS Intel Core i5-1235U/16GB/512GB...          New      HP   \n",
       "...                                                 ...          ...     ...   \n",
       "2155  Razer Blade 17 FHD 360Hz Intel Core i7-11800H/...  Refurbished   Razer   \n",
       "2156  Razer Blade 17 FHD 360Hz Intel Core i7-11800H/...  Refurbished   Razer   \n",
       "2157  Razer Blade 17 FHD 360Hz Intel Core i7-11800H/...  Refurbished   Razer   \n",
       "2158  Razer Book 13 Intel Evo Core i7-1165G7/16GB/1T...  Refurbished   Razer   \n",
       "2159  Razer Book FHD+ Intel Evo Core i7-1165G7/16GB/...  Refurbished   Razer   \n",
       "\n",
       "           Model                CPU  RAM  Storage Storage type       GPU  \\\n",
       "0     ExpertBook      Intel Core i5    8      512          SSD       NaN   \n",
       "1             Go      Intel Celeron    8      256          SSD       NaN   \n",
       "2     ExpertBook      Intel Core i3    8      256          SSD       NaN   \n",
       "3         Katana      Intel Core i7   16     1000          SSD  RTX 3050   \n",
       "4            15S      Intel Core i5   16      512          SSD       NaN   \n",
       "...          ...                ...  ...      ...          ...       ...   \n",
       "2155       Blade      Intel Core i7   16     1000          SSD  RTX 3060   \n",
       "2156       Blade      Intel Core i7   16     1000          SSD  RTX 3070   \n",
       "2157       Blade      Intel Core i7   32     1000          SSD  RTX 3080   \n",
       "2158        Book  Intel Evo Core i7   16     1000          SSD       NaN   \n",
       "2159        Book  Intel Evo Core i7   16      256          SSD       NaN   \n",
       "\n",
       "      Screen Touch  Final Price  \n",
       "0       15.6    No      1009.00  \n",
       "1       15.6    No       299.00  \n",
       "2       15.6    No       789.00  \n",
       "3       15.6    No      1199.00  \n",
       "4       15.6    No       669.01  \n",
       "...      ...   ...          ...  \n",
       "2155    17.3    No      2699.99  \n",
       "2156    17.3    No      2899.99  \n",
       "2157    17.3    No      3399.99  \n",
       "2158    13.4   Yes      1899.99  \n",
       "2159    13.4   Yes      1699.99  \n",
       "\n",
       "[2160 rows x 12 columns]"
      ]
     },
     "execution_count": 4,
     "metadata": {},
     "output_type": "execute_result"
    }
   ],
   "source": [
    "data = pd.read_csv('data/laptops.csv', encoding='latin1')\n",
    "data"
   ]
  },
  {
   "cell_type": "code",
   "execution_count": 5,
   "id": "831c8314",
   "metadata": {
    "scrolled": true
   },
   "outputs": [
    {
     "name": "stdout",
     "output_type": "stream",
     "text": [
      "<class 'pandas.core.frame.DataFrame'>\n",
      "RangeIndex: 2160 entries, 0 to 2159\n",
      "Data columns (total 12 columns):\n",
      " #   Column        Non-Null Count  Dtype  \n",
      "---  ------        --------------  -----  \n",
      " 0   Laptop        2160 non-null   object \n",
      " 1   Status        2160 non-null   object \n",
      " 2   Brand         2160 non-null   object \n",
      " 3   Model         2160 non-null   object \n",
      " 4   CPU           2160 non-null   object \n",
      " 5   RAM           2160 non-null   int64  \n",
      " 6   Storage       2160 non-null   int64  \n",
      " 7   Storage type  2118 non-null   object \n",
      " 8   GPU           789 non-null    object \n",
      " 9   Screen        2156 non-null   float64\n",
      " 10  Touch         2160 non-null   object \n",
      " 11  Final Price   2160 non-null   float64\n",
      "dtypes: float64(2), int64(2), object(8)\n",
      "memory usage: 202.6+ KB\n"
     ]
    }
   ],
   "source": [
    "data.info()"
   ]
  },
  {
   "cell_type": "code",
   "execution_count": 6,
   "id": "c812482a",
   "metadata": {
    "scrolled": true
   },
   "outputs": [
    {
     "data": {
      "text/html": [
       "<div>\n",
       "<style scoped>\n",
       "    .dataframe tbody tr th:only-of-type {\n",
       "        vertical-align: middle;\n",
       "    }\n",
       "\n",
       "    .dataframe tbody tr th {\n",
       "        vertical-align: top;\n",
       "    }\n",
       "\n",
       "    .dataframe thead th {\n",
       "        text-align: right;\n",
       "    }\n",
       "</style>\n",
       "<table border=\"1\" class=\"dataframe\">\n",
       "  <thead>\n",
       "    <tr style=\"text-align: right;\">\n",
       "      <th></th>\n",
       "      <th>RAM</th>\n",
       "      <th>Storage</th>\n",
       "      <th>Screen</th>\n",
       "      <th>Final Price</th>\n",
       "    </tr>\n",
       "  </thead>\n",
       "  <tbody>\n",
       "    <tr>\n",
       "      <th>count</th>\n",
       "      <td>2160.000000</td>\n",
       "      <td>2160.000000</td>\n",
       "      <td>2156.000000</td>\n",
       "      <td>2160.000000</td>\n",
       "    </tr>\n",
       "    <tr>\n",
       "      <th>mean</th>\n",
       "      <td>15.413889</td>\n",
       "      <td>596.294444</td>\n",
       "      <td>15.168112</td>\n",
       "      <td>1312.638509</td>\n",
       "    </tr>\n",
       "    <tr>\n",
       "      <th>std</th>\n",
       "      <td>9.867815</td>\n",
       "      <td>361.220506</td>\n",
       "      <td>1.203329</td>\n",
       "      <td>911.475417</td>\n",
       "    </tr>\n",
       "    <tr>\n",
       "      <th>min</th>\n",
       "      <td>4.000000</td>\n",
       "      <td>0.000000</td>\n",
       "      <td>10.100000</td>\n",
       "      <td>201.050000</td>\n",
       "    </tr>\n",
       "    <tr>\n",
       "      <th>25%</th>\n",
       "      <td>8.000000</td>\n",
       "      <td>256.000000</td>\n",
       "      <td>14.000000</td>\n",
       "      <td>661.082500</td>\n",
       "    </tr>\n",
       "    <tr>\n",
       "      <th>50%</th>\n",
       "      <td>16.000000</td>\n",
       "      <td>512.000000</td>\n",
       "      <td>15.600000</td>\n",
       "      <td>1031.945000</td>\n",
       "    </tr>\n",
       "    <tr>\n",
       "      <th>75%</th>\n",
       "      <td>16.000000</td>\n",
       "      <td>1000.000000</td>\n",
       "      <td>15.600000</td>\n",
       "      <td>1708.970000</td>\n",
       "    </tr>\n",
       "    <tr>\n",
       "      <th>max</th>\n",
       "      <td>128.000000</td>\n",
       "      <td>4000.000000</td>\n",
       "      <td>18.000000</td>\n",
       "      <td>7150.470000</td>\n",
       "    </tr>\n",
       "  </tbody>\n",
       "</table>\n",
       "</div>"
      ],
      "text/plain": [
       "               RAM      Storage       Screen  Final Price\n",
       "count  2160.000000  2160.000000  2156.000000  2160.000000\n",
       "mean     15.413889   596.294444    15.168112  1312.638509\n",
       "std       9.867815   361.220506     1.203329   911.475417\n",
       "min       4.000000     0.000000    10.100000   201.050000\n",
       "25%       8.000000   256.000000    14.000000   661.082500\n",
       "50%      16.000000   512.000000    15.600000  1031.945000\n",
       "75%      16.000000  1000.000000    15.600000  1708.970000\n",
       "max     128.000000  4000.000000    18.000000  7150.470000"
      ]
     },
     "execution_count": 6,
     "metadata": {},
     "output_type": "execute_result"
    }
   ],
   "source": [
    "data.describe()"
   ]
  },
  {
   "cell_type": "code",
   "execution_count": 7,
   "id": "77c3eb21",
   "metadata": {},
   "outputs": [
    {
     "data": {
      "text/plain": [
       "Laptop          2160\n",
       "Status             2\n",
       "Brand             27\n",
       "Model            121\n",
       "CPU               28\n",
       "RAM                9\n",
       "Storage           12\n",
       "Storage type       2\n",
       "GPU               44\n",
       "Screen            29\n",
       "Touch              2\n",
       "Final Price     1440\n",
       "dtype: int64"
      ]
     },
     "execution_count": 7,
     "metadata": {},
     "output_type": "execute_result"
    }
   ],
   "source": [
    "data.nunique()"
   ]
  },
  {
   "cell_type": "markdown",
   "id": "e0712c12",
   "metadata": {},
   "source": [
    "#### Dropping unwanted columns"
   ]
  },
  {
   "cell_type": "code",
   "execution_count": 8,
   "id": "481b0281",
   "metadata": {},
   "outputs": [],
   "source": [
    "data.drop(columns=['Model'], inplace=True)"
   ]
  },
  {
   "cell_type": "code",
   "execution_count": null,
   "id": "a9154693",
   "metadata": {},
   "outputs": [],
   "source": [
    "laptops = data['Laptop']\n",
    "data.drop(columns=['Laptop'], inplace=True)"
   ]
  },
  {
   "cell_type": "markdown",
   "id": "40e0f9c5",
   "metadata": {},
   "source": [
    "#### specifying CPU Brand\n",
    "separating starting word of CPUs which stands for producer's company"
   ]
  },
  {
   "cell_type": "code",
   "execution_count": 9,
   "id": "e3401fbc",
   "metadata": {},
   "outputs": [],
   "source": [
    "mask = data['CPU'].str.startswith(('Intel', 'AMD', 'Apple'))\n",
    "data = data[mask]"
   ]
  },
  {
   "cell_type": "markdown",
   "id": "e9a3158c",
   "metadata": {},
   "source": [
    "## Fill missing values\n",
    "replacing `NaN` values with `Mode` of the feature"
   ]
  },
  {
   "cell_type": "code",
   "execution_count": 10,
   "id": "f93299ac",
   "metadata": {},
   "outputs": [],
   "source": [
    "data['Screen'].fillna(data['Screen'].mode()[0], inplace=True)"
   ]
  },
  {
   "cell_type": "code",
   "execution_count": 11,
   "id": "134c6cca",
   "metadata": {},
   "outputs": [],
   "source": [
    "data['CPU_brand'] = data['CPU'].str.split().str[0]"
   ]
  },
  {
   "cell_type": "code",
   "execution_count": 12,
   "id": "fa0e6f76",
   "metadata": {},
   "outputs": [],
   "source": [
    "# laptops = data['Laptop']\n",
    "# data.drop(columns=['Laptop'], inplace=True)"
   ]
  },
  {
   "cell_type": "code",
   "execution_count": 13,
   "id": "3353a996",
   "metadata": {},
   "outputs": [],
   "source": [
    "counts = data['Brand'].value_counts()\n",
    "data = data[data['Brand'].isin(counts[counts >= 25].index)]\n",
    "\n",
    "data = data[data['Final Price'] < 5000]"
   ]
  },
  {
   "cell_type": "code",
   "execution_count": 14,
   "id": "22111f23",
   "metadata": {},
   "outputs": [],
   "source": [
    "data['GPU'].fillna('NO_GPU', inplace=True)"
   ]
  },
  {
   "cell_type": "code",
   "execution_count": 15,
   "id": "868a8964",
   "metadata": {},
   "outputs": [
    {
     "data": {
      "text/html": [
       "<div>\n",
       "<style scoped>\n",
       "    .dataframe tbody tr th:only-of-type {\n",
       "        vertical-align: middle;\n",
       "    }\n",
       "\n",
       "    .dataframe tbody tr th {\n",
       "        vertical-align: top;\n",
       "    }\n",
       "\n",
       "    .dataframe thead th {\n",
       "        text-align: right;\n",
       "    }\n",
       "</style>\n",
       "<table border=\"1\" class=\"dataframe\">\n",
       "  <thead>\n",
       "    <tr style=\"text-align: right;\">\n",
       "      <th></th>\n",
       "      <th>Status</th>\n",
       "      <th>Brand</th>\n",
       "      <th>CPU</th>\n",
       "      <th>RAM</th>\n",
       "      <th>Storage</th>\n",
       "      <th>Storage type</th>\n",
       "      <th>GPU</th>\n",
       "      <th>Screen</th>\n",
       "      <th>Touch</th>\n",
       "      <th>Final Price</th>\n",
       "      <th>CPU_brand</th>\n",
       "    </tr>\n",
       "  </thead>\n",
       "  <tbody>\n",
       "    <tr>\n",
       "      <th>0</th>\n",
       "      <td>New</td>\n",
       "      <td>Asus</td>\n",
       "      <td>Intel Core i5</td>\n",
       "      <td>8</td>\n",
       "      <td>512</td>\n",
       "      <td>SSD</td>\n",
       "      <td>NO_GPU</td>\n",
       "      <td>15.6</td>\n",
       "      <td>No</td>\n",
       "      <td>1009.00</td>\n",
       "      <td>Intel</td>\n",
       "    </tr>\n",
       "    <tr>\n",
       "      <th>1</th>\n",
       "      <td>New</td>\n",
       "      <td>Alurin</td>\n",
       "      <td>Intel Celeron</td>\n",
       "      <td>8</td>\n",
       "      <td>256</td>\n",
       "      <td>SSD</td>\n",
       "      <td>NO_GPU</td>\n",
       "      <td>15.6</td>\n",
       "      <td>No</td>\n",
       "      <td>299.00</td>\n",
       "      <td>Intel</td>\n",
       "    </tr>\n",
       "    <tr>\n",
       "      <th>2</th>\n",
       "      <td>New</td>\n",
       "      <td>Asus</td>\n",
       "      <td>Intel Core i3</td>\n",
       "      <td>8</td>\n",
       "      <td>256</td>\n",
       "      <td>SSD</td>\n",
       "      <td>NO_GPU</td>\n",
       "      <td>15.6</td>\n",
       "      <td>No</td>\n",
       "      <td>789.00</td>\n",
       "      <td>Intel</td>\n",
       "    </tr>\n",
       "    <tr>\n",
       "      <th>3</th>\n",
       "      <td>New</td>\n",
       "      <td>MSI</td>\n",
       "      <td>Intel Core i7</td>\n",
       "      <td>16</td>\n",
       "      <td>1000</td>\n",
       "      <td>SSD</td>\n",
       "      <td>RTX 3050</td>\n",
       "      <td>15.6</td>\n",
       "      <td>No</td>\n",
       "      <td>1199.00</td>\n",
       "      <td>Intel</td>\n",
       "    </tr>\n",
       "    <tr>\n",
       "      <th>4</th>\n",
       "      <td>New</td>\n",
       "      <td>HP</td>\n",
       "      <td>Intel Core i5</td>\n",
       "      <td>16</td>\n",
       "      <td>512</td>\n",
       "      <td>SSD</td>\n",
       "      <td>NO_GPU</td>\n",
       "      <td>15.6</td>\n",
       "      <td>No</td>\n",
       "      <td>669.01</td>\n",
       "      <td>Intel</td>\n",
       "    </tr>\n",
       "    <tr>\n",
       "      <th>...</th>\n",
       "      <td>...</td>\n",
       "      <td>...</td>\n",
       "      <td>...</td>\n",
       "      <td>...</td>\n",
       "      <td>...</td>\n",
       "      <td>...</td>\n",
       "      <td>...</td>\n",
       "      <td>...</td>\n",
       "      <td>...</td>\n",
       "      <td>...</td>\n",
       "      <td>...</td>\n",
       "    </tr>\n",
       "    <tr>\n",
       "      <th>2155</th>\n",
       "      <td>Refurbished</td>\n",
       "      <td>Razer</td>\n",
       "      <td>Intel Core i7</td>\n",
       "      <td>16</td>\n",
       "      <td>1000</td>\n",
       "      <td>SSD</td>\n",
       "      <td>RTX 3060</td>\n",
       "      <td>17.3</td>\n",
       "      <td>No</td>\n",
       "      <td>2699.99</td>\n",
       "      <td>Intel</td>\n",
       "    </tr>\n",
       "    <tr>\n",
       "      <th>2156</th>\n",
       "      <td>Refurbished</td>\n",
       "      <td>Razer</td>\n",
       "      <td>Intel Core i7</td>\n",
       "      <td>16</td>\n",
       "      <td>1000</td>\n",
       "      <td>SSD</td>\n",
       "      <td>RTX 3070</td>\n",
       "      <td>17.3</td>\n",
       "      <td>No</td>\n",
       "      <td>2899.99</td>\n",
       "      <td>Intel</td>\n",
       "    </tr>\n",
       "    <tr>\n",
       "      <th>2157</th>\n",
       "      <td>Refurbished</td>\n",
       "      <td>Razer</td>\n",
       "      <td>Intel Core i7</td>\n",
       "      <td>32</td>\n",
       "      <td>1000</td>\n",
       "      <td>SSD</td>\n",
       "      <td>RTX 3080</td>\n",
       "      <td>17.3</td>\n",
       "      <td>No</td>\n",
       "      <td>3399.99</td>\n",
       "      <td>Intel</td>\n",
       "    </tr>\n",
       "    <tr>\n",
       "      <th>2158</th>\n",
       "      <td>Refurbished</td>\n",
       "      <td>Razer</td>\n",
       "      <td>Intel Evo Core i7</td>\n",
       "      <td>16</td>\n",
       "      <td>1000</td>\n",
       "      <td>SSD</td>\n",
       "      <td>NO_GPU</td>\n",
       "      <td>13.4</td>\n",
       "      <td>Yes</td>\n",
       "      <td>1899.99</td>\n",
       "      <td>Intel</td>\n",
       "    </tr>\n",
       "    <tr>\n",
       "      <th>2159</th>\n",
       "      <td>Refurbished</td>\n",
       "      <td>Razer</td>\n",
       "      <td>Intel Evo Core i7</td>\n",
       "      <td>16</td>\n",
       "      <td>256</td>\n",
       "      <td>SSD</td>\n",
       "      <td>NO_GPU</td>\n",
       "      <td>13.4</td>\n",
       "      <td>Yes</td>\n",
       "      <td>1699.99</td>\n",
       "      <td>Intel</td>\n",
       "    </tr>\n",
       "  </tbody>\n",
       "</table>\n",
       "<p>2033 rows × 11 columns</p>\n",
       "</div>"
      ],
      "text/plain": [
       "           Status   Brand                CPU  RAM  Storage Storage type  \\\n",
       "0             New    Asus      Intel Core i5    8      512          SSD   \n",
       "1             New  Alurin      Intel Celeron    8      256          SSD   \n",
       "2             New    Asus      Intel Core i3    8      256          SSD   \n",
       "3             New     MSI      Intel Core i7   16     1000          SSD   \n",
       "4             New      HP      Intel Core i5   16      512          SSD   \n",
       "...           ...     ...                ...  ...      ...          ...   \n",
       "2155  Refurbished   Razer      Intel Core i7   16     1000          SSD   \n",
       "2156  Refurbished   Razer      Intel Core i7   16     1000          SSD   \n",
       "2157  Refurbished   Razer      Intel Core i7   32     1000          SSD   \n",
       "2158  Refurbished   Razer  Intel Evo Core i7   16     1000          SSD   \n",
       "2159  Refurbished   Razer  Intel Evo Core i7   16      256          SSD   \n",
       "\n",
       "           GPU  Screen Touch  Final Price CPU_brand  \n",
       "0       NO_GPU    15.6    No      1009.00     Intel  \n",
       "1       NO_GPU    15.6    No       299.00     Intel  \n",
       "2       NO_GPU    15.6    No       789.00     Intel  \n",
       "3     RTX 3050    15.6    No      1199.00     Intel  \n",
       "4       NO_GPU    15.6    No       669.01     Intel  \n",
       "...        ...     ...   ...          ...       ...  \n",
       "2155  RTX 3060    17.3    No      2699.99     Intel  \n",
       "2156  RTX 3070    17.3    No      2899.99     Intel  \n",
       "2157  RTX 3080    17.3    No      3399.99     Intel  \n",
       "2158    NO_GPU    13.4   Yes      1899.99     Intel  \n",
       "2159    NO_GPU    13.4   Yes      1699.99     Intel  \n",
       "\n",
       "[2033 rows x 11 columns]"
      ]
     },
     "execution_count": 15,
     "metadata": {},
     "output_type": "execute_result"
    }
   ],
   "source": [
    "data1 = data.copy()\n",
    "data"
   ]
  },
  {
   "cell_type": "markdown",
   "id": "b68e0612",
   "metadata": {},
   "source": [
    "## Data Visualization"
   ]
  },
  {
   "cell_type": "code",
   "execution_count": 16,
   "id": "7e6b1710",
   "metadata": {
    "scrolled": false
   },
   "outputs": [
    {
     "data": {
      "text/plain": [
       "<Axes: xlabel='count', ylabel='Brand'>"
      ]
     },
     "execution_count": 16,
     "metadata": {},
     "output_type": "execute_result"
    },
    {
     "data": {
      "image/png": "[encoded data removed]",
      "text/plain": [
       "<Figure size 640x480 with 1 Axes>"
      ]
     },
     "metadata": {},
     "output_type": "display_data"
    }
   ],
   "source": [
    "sns.countplot(data['Brand'], order=data['Brand'].value_counts().index, palette='magma')"
   ]
  },
  {
   "cell_type": "code",
   "execution_count": 17,
   "id": "cde1e49f",
   "metadata": {},
   "outputs": [
    {
     "data": {
      "text/plain": [
       "<Axes: xlabel='Final Price', ylabel='CPU'>"
      ]
     },
     "execution_count": 17,
     "metadata": {},
     "output_type": "execute_result"
    },
    {
     "data": {
      "image/png": "[encoded data removed]",
      "text/plain": [
       "<Figure size 800x600 with 1 Axes>"
      ]
     },
     "metadata": {},
     "output_type": "display_data"
    }
   ],
   "source": [
    "plt.figure(figsize=(8, 6))\n",
    "sns.barplot(x=data['Final Price'], y=data['CPU'], palette='magma')"
   ]
  },
  {
   "cell_type": "code",
   "execution_count": 18,
   "id": "847cbaad",
   "metadata": {},
   "outputs": [
    {
     "data": {
      "text/plain": [
       "<Axes: xlabel='Final Price', ylabel='GPU'>"
      ]
     },
     "execution_count": 18,
     "metadata": {},
     "output_type": "execute_result"
    },
    {
     "data": {
      "image/png": "[encoded data removed]",
      "text/plain": [
       "<Figure size 1200x1200 with 1 Axes>"
      ]
     },
     "metadata": {},
     "output_type": "display_data"
    }
   ],
   "source": [
    "plt.figure(figsize=(12, 12))\n",
    "sns.barplot(x=data['Final Price'], y=data['GPU'], palette='magma')"
   ]
  },
  {
   "cell_type": "code",
   "execution_count": 19,
   "id": "0e02d959",
   "metadata": {},
   "outputs": [
    {
     "data": {
      "text/plain": [
       "<Axes: xlabel='RAM', ylabel='Final Price'>"
      ]
     },
     "execution_count": 19,
     "metadata": {},
     "output_type": "execute_result"
    },
    {
     "data": {
      "image/png": "[encoded data removed]",
      "text/plain": [
       "<Figure size 640x480 with 1 Axes>"
      ]
     },
     "metadata": {},
     "output_type": "display_data"
    }
   ],
   "source": [
    "sns.barplot(x=data['RAM'], y=data['Final Price'], palette='crest')"
   ]
  },
  {
   "cell_type": "code",
   "execution_count": 20,
   "id": "655cb00e",
   "metadata": {
    "scrolled": false
   },
   "outputs": [
    {
     "data": {
      "text/plain": [
       "<Axes: >"
      ]
     },
     "execution_count": 20,
     "metadata": {},
     "output_type": "execute_result"
    },
    {
     "data": {
      "image/png": "[encoded data removed]",
      "text/plain": [
       "<Figure size 640x480 with 2 Axes>"
      ]
     },
     "metadata": {},
     "output_type": "display_data"
    }
   ],
   "source": [
    "sns.heatmap(data.corr(numeric_only=True), cmap=\"YlGnBu\")"
   ]
  },
  {
   "cell_type": "code",
   "execution_count": 21,
   "id": "cdaab3b0",
   "metadata": {},
   "outputs": [
    {
     "data": {
      "text/plain": [
       "<Axes: xlabel='Status', ylabel='count'>"
      ]
     },
     "execution_count": 21,
     "metadata": {},
     "output_type": "execute_result"
    },
    {
     "data": {
      "image/png": "[encoded data removed]",
      "text/plain": [
       "<Figure size 400x400 with 1 Axes>"
      ]
     },
     "metadata": {},
     "output_type": "display_data"
    }
   ],
   "source": [
    "plt.figure(figsize=(4, 4))\n",
    "sns.countplot(x=data['Status'], palette='tab10')"
   ]
  },
  {
   "cell_type": "code",
   "execution_count": 22,
   "id": "4ca60b72",
   "metadata": {},
   "outputs": [
    {
     "data": {
      "text/plain": [
       "<Axes: xlabel='Touch', ylabel='Final Price'>"
      ]
     },
     "execution_count": 22,
     "metadata": {},
     "output_type": "execute_result"
    },
    {
     "data": {
      "image/png": "[encoded data removed]",
      "text/plain": [
       "<Figure size 400x400 with 1 Axes>"
      ]
     },
     "metadata": {},
     "output_type": "display_data"
    }
   ],
   "source": [
    "plt.figure(figsize=(4, 4))\n",
    "sns.barplot(x=data['Touch'], y=data['Final Price'], palette='tab10')"
   ]
  },
  {
   "cell_type": "code",
   "execution_count": 23,
   "id": "63adc56a",
   "metadata": {},
   "outputs": [
    {
     "data": {
      "text/plain": [
       "<Axes: xlabel='Final Price', ylabel='Density'>"
      ]
     },
     "execution_count": 23,
     "metadata": {},
     "output_type": "execute_result"
    },
    {
     "data": {
      "image/png": "[encoded data removed]",
      "text/plain": [
       "<Figure size 640x480 with 1 Axes>"
      ]
     },
     "metadata": {},
     "output_type": "display_data"
    }
   ],
   "source": [
    "sns.distplot(data['Final Price'])"
   ]
  },
  {
   "cell_type": "code",
   "execution_count": 24,
   "id": "ce40b305",
   "metadata": {},
   "outputs": [
    {
     "data": {
      "text/plain": [
       "<Axes: xlabel='Final Price'>"
      ]
     },
     "execution_count": 24,
     "metadata": {},
     "output_type": "execute_result"
    },
    {
     "data": {
      "image/png": "[encoded data removed]",
      "text/plain": [
       "<Figure size 1000x300 with 2 Axes>"
      ]
     },
     "metadata": {},
     "output_type": "display_data"
    }
   ],
   "source": [
    "plt.figure(figsize=(10,3))\n",
    "plt.subplot(2,2,1)\n",
    "sns.boxplot(data['RAM'] , orient='h', palette='mako', fill=False)\n",
    "\n",
    "plt.subplot(2,2,2)\n",
    "sns.boxplot(data['Final Price'] , orient='h', palette='mako', fill=False)"
   ]
  },
  {
   "cell_type": "markdown",
   "id": "722b030f",
   "metadata": {},
   "source": [
    "## Feature Engineering\n",
    "Extracting features from CPU and GPU features. \n",
    "Specifying company, model, version, etc., extracted from these features"
   ]
  },
  {
   "cell_type": "code",
   "execution_count": 25,
   "id": "1db13541",
   "metadata": {
    "scrolled": true
   },
   "outputs": [
    {
     "data": {
      "text/plain": [
       "array(['Intel Core i5', 'Intel Celeron', 'Intel Core i3', 'Intel Core i7',\n",
       "       'AMD Ryzen 5', 'AMD Ryzen 7', 'AMD Ryzen 3', 'Apple M1',\n",
       "       'AMD Athlon', 'Apple M2', 'AMD Ryzen 9', 'Intel Core i9',\n",
       "       'AMD 3020e', 'Intel Evo Core i7', 'Intel Evo Core i5',\n",
       "       'Intel Pentium', 'Apple M2 Pro', 'AMD Radeon 5', 'AMD 3015e',\n",
       "       'Apple M1 Pro', 'Intel Core M3', 'AMD Radeon 9', 'AMD 3015Ce'],\n",
       "      dtype=object)"
      ]
     },
     "execution_count": 25,
     "metadata": {},
     "output_type": "execute_result"
    }
   ],
   "source": [
    "data.CPU.unique()"
   ]
  },
  {
   "cell_type": "code",
   "execution_count": 43,
   "id": "2bdfdc47",
   "metadata": {
    "scrolled": true
   },
   "outputs": [],
   "source": [
    "def preprocess_cpu(data):\n",
    "    data['Evo_model'] = False\n",
    "    data['Pro_model'] = False\n",
    "    data['Radeon_model'] = False\n",
    "    data['Ryzen_model'] = False\n",
    "    data['CPU_model'] = \"\"\n",
    "\n",
    "    for index, cpu in data.iterrows():\n",
    "        cpu_name = cpu['CPU']\n",
    "        cpu_split = cpu_name.split()\n",
    "\n",
    "        if cpu_split[0] == 'Intel':\n",
    "            if cpu_split[1] == 'Evo':\n",
    "                data.at[index, 'CPU_model'] = cpu_split[-1]\n",
    "                data.at[index, 'Evo_model'] = True\n",
    "            elif cpu_split[1] == 'Core':\n",
    "                data.at[index, 'CPU_model'] = cpu_split[-1]\n",
    "            elif cpu_split[-1] in ['Celeron', 'M3', 'Pentium']:\n",
    "                data.at[index, 'CPU_model'] = cpu_split[-1]\n",
    "\n",
    "        elif cpu_split[0] == 'AMD':\n",
    "            if cpu_split[1] == 'Radeon':\n",
    "                data.at[index, 'CPU_model'] = cpu_split[-1]\n",
    "                data.at[index, 'Radeon_model'] = True\n",
    "            elif cpu_split[1] == 'Ryzen':\n",
    "                data.at[index, 'CPU_model'] = cpu_split[-1]\n",
    "                data.at[index, 'Ryzen_model'] = True\n",
    "            elif cpu_split[-1] in ['3015Ce', '3015e', '3020e', 'Athlon']:\n",
    "                data.at[index, 'CPU_model'] = cpu_split[-1]\n",
    "\n",
    "        elif cpu_split[0] == 'Apple':\n",
    "            if cpu_split[-1] == 'Pro':\n",
    "                data.at[index, 'Pro_model'] = True\n",
    "            data.at[index, 'CPU_model'] = cpu_split[1]\n",
    "\n",
    "    data.drop(columns=['CPU'], inplace=True)\n",
    "    return data\n",
    "\n"
   ]
  },
  {
   "cell_type": "code",
   "execution_count": 27,
   "id": "dbbf5890",
   "metadata": {},
   "outputs": [
    {
     "data": {
      "text/plain": [
       "array(['NO_GPU', 'RTX 3050', 'RTX 4060', 'RTX 4050', 'RTX 3060',\n",
       "       'RTX 4070', 'RTX 2050', 'GTX 1650', 'RTX 3070', '610 M',\n",
       "       'RTX 4080', 'RX 6500M', 'MX 550', 'RTX 3080', 'RTX 4090',\n",
       "       'RX 7600S', 'A 370M', 'GTX 1660', 'RTX A1000', 'RTX 3000',\n",
       "       'T 1200', 'Radeon Pro 5300M', 'A 730M', 'Radeon Pro RX 560X',\n",
       "       'RTX A5500', 'Radeon Pro 5500M', 'T 500', 'T 550', 'RTX A3000',\n",
       "       'T 2000', 'T 600', 'T 1000', 'Radeon RX 6600M', 'MX 330',\n",
       "       'RTX A2000', 'MX 450', 'RTX 2070', 'RX 6800S', 'RTX 2080',\n",
       "       'RTX 2060', 'GTX 1050', 'MX 130', 'P 500', 'RX 6700M', 'GTX 1070'],\n",
       "      dtype=object)"
      ]
     },
     "execution_count": 27,
     "metadata": {},
     "output_type": "execute_result"
    }
   ],
   "source": [
    "data.GPU.unique()"
   ]
  },
  {
   "cell_type": "code",
   "execution_count": 44,
   "id": "8a318d08",
   "metadata": {},
   "outputs": [],
   "source": [
    "def preprocess_gpu(data):\n",
    "    data['RTX_model'] = False\n",
    "    data['GTX_model'] = False\n",
    "    data['MX_model'] = False\n",
    "    data['RX_model'] = False\n",
    "    data['T_model'] = False\n",
    "    data['A_model'] = False\n",
    "    data['Radeon_model'] = False\n",
    "    data['GPU_model'] = \"\"\n",
    "\n",
    "    for index, gpu in data.iterrows():\n",
    "        gpu_name = gpu['GPU']\n",
    "        gpu_split = gpu_name.split()\n",
    "\n",
    "        if gpu_split[0] == 'RTX':\n",
    "            data.at[index, 'GPU_model'] = gpu_split[-1]\n",
    "            data.at[index, 'RTX_model'] = True\n",
    "\n",
    "        elif gpu_split[0] == 'GTX':\n",
    "            data.at[index, 'GPU_model'] = gpu_split[-1]\n",
    "            data.at[index, 'GTX_model'] = True\n",
    "\n",
    "        elif gpu_split[0] == 'MX':\n",
    "            data.at[index, 'GPU_model'] = gpu_split[-1]\n",
    "            data.at[index, 'MX_model'] = True\n",
    "\n",
    "        elif gpu_split[0] == 'RX':\n",
    "            data.at[index, 'GPU_model'] = gpu_split[-1]\n",
    "            data.at[index, 'RX_model'] = True\n",
    "\n",
    "        elif gpu_split[0] == 'T':\n",
    "            data.at[index, 'GPU_model'] = gpu_split[-1]\n",
    "            data.at[index, 'T_model'] = True\n",
    "\n",
    "        elif gpu_split[0] == 'A':\n",
    "            data.at[index, 'GPU_model'] = gpu_split[-1]\n",
    "            data.at[index, 'A_model'] = True\n",
    "\n",
    "        elif gpu_split[0] == 'Radeon':\n",
    "            data.at[index, 'GPU_model'] = gpu_split[-1]\n",
    "            data.at[index, 'Radeon_model'] = True\n",
    "\n",
    "    data.drop(columns=['GPU'], inplace=True)\n",
    "    return data"
   ]
  },
  {
   "cell_type": "code",
   "execution_count": 29,
   "id": "f60dc72c",
   "metadata": {},
   "outputs": [],
   "source": [
    "data = preprocess_cpu(data)\n",
    "data = preprocess_gpu(data)"
   ]
  },
  {
   "cell_type": "code",
   "execution_count": 30,
   "id": "8b4919cd",
   "metadata": {},
   "outputs": [
    {
     "name": "stdout",
     "output_type": "stream",
     "text": [
      "['New' 'Refurbished']\n",
      "['SSD' 'eMMC' 'nan']\n",
      "['No' 'Yes']\n",
      "['AMD' 'Apple' 'Intel']\n",
      "['3' '3015Ce' '3015e' '3020e' '5' '7' '9' 'Athlon' 'Celeron' 'M1' 'M2'\n",
      " 'M3' 'Pentium' 'i3' 'i5' 'i7' 'i9']\n",
      "['Acer' 'Alurin' 'Apple' 'Asus' 'Dell' 'Gigabyte' 'HP' 'LG' 'Lenovo' 'MSI'\n",
      " 'Medion' 'Microsoft' 'Razer']\n",
      "['' '1000' '1050' '1070' '1200' '130' '1650' '1660' '2000' '2050' '2060'\n",
      " '2070' '2080' '3000' '3050' '3060' '3070' '3080' '330' '370M' '4050'\n",
      " '4060' '4070' '4080' '4090' '450' '500' '5300M' '550' '5500M' '560X'\n",
      " '600' '6500M' '6600M' '6700M' '6800S' '730M' '7600S' 'A1000' 'A2000'\n",
      " 'A3000' 'A5500']\n"
     ]
    }
   ],
   "source": [
    "print(np.unique(data['Status']))\n",
    "\n",
    "data['Storage type'] = data['Storage type'].astype(str)\n",
    "print(np.unique(data['Storage type']))\n",
    "\n",
    "print(np.unique(data['Touch']))\n",
    "\n",
    "print(np.unique(data['CPU_brand']))\n",
    "print(np.unique(data['CPU_model']))\n",
    "\n",
    "print(np.unique(data['Brand']))\n",
    "\n",
    "print(np.unique(data['GPU_model']))"
   ]
  },
  {
   "cell_type": "code",
   "execution_count": 31,
   "id": "1dba369b",
   "metadata": {},
   "outputs": [
    {
     "data": {
      "text/html": [
       "<div>\n",
       "<style scoped>\n",
       "    .dataframe tbody tr th:only-of-type {\n",
       "        vertical-align: middle;\n",
       "    }\n",
       "\n",
       "    .dataframe tbody tr th {\n",
       "        vertical-align: top;\n",
       "    }\n",
       "\n",
       "    .dataframe thead th {\n",
       "        text-align: right;\n",
       "    }\n",
       "</style>\n",
       "<table border=\"1\" class=\"dataframe\">\n",
       "  <thead>\n",
       "    <tr style=\"text-align: right;\">\n",
       "      <th></th>\n",
       "      <th>Status</th>\n",
       "      <th>Brand</th>\n",
       "      <th>RAM</th>\n",
       "      <th>Storage</th>\n",
       "      <th>Storage type</th>\n",
       "      <th>Screen</th>\n",
       "      <th>Touch</th>\n",
       "      <th>Final Price</th>\n",
       "      <th>CPU_brand</th>\n",
       "      <th>Evo_model</th>\n",
       "      <th>...</th>\n",
       "      <th>Radeon_model</th>\n",
       "      <th>Ryzen_model</th>\n",
       "      <th>CPU_model</th>\n",
       "      <th>RTX_model</th>\n",
       "      <th>GTX_model</th>\n",
       "      <th>MX_model</th>\n",
       "      <th>RX_model</th>\n",
       "      <th>T_model</th>\n",
       "      <th>A_model</th>\n",
       "      <th>GPU_model</th>\n",
       "    </tr>\n",
       "  </thead>\n",
       "  <tbody>\n",
       "    <tr>\n",
       "      <th>0</th>\n",
       "      <td>New</td>\n",
       "      <td>Asus</td>\n",
       "      <td>8</td>\n",
       "      <td>512</td>\n",
       "      <td>SSD</td>\n",
       "      <td>15.6</td>\n",
       "      <td>No</td>\n",
       "      <td>1009.00</td>\n",
       "      <td>Intel</td>\n",
       "      <td>False</td>\n",
       "      <td>...</td>\n",
       "      <td>False</td>\n",
       "      <td>False</td>\n",
       "      <td>i5</td>\n",
       "      <td>False</td>\n",
       "      <td>False</td>\n",
       "      <td>False</td>\n",
       "      <td>False</td>\n",
       "      <td>False</td>\n",
       "      <td>False</td>\n",
       "      <td></td>\n",
       "    </tr>\n",
       "    <tr>\n",
       "      <th>1</th>\n",
       "      <td>New</td>\n",
       "      <td>Alurin</td>\n",
       "      <td>8</td>\n",
       "      <td>256</td>\n",
       "      <td>SSD</td>\n",
       "      <td>15.6</td>\n",
       "      <td>No</td>\n",
       "      <td>299.00</td>\n",
       "      <td>Intel</td>\n",
       "      <td>False</td>\n",
       "      <td>...</td>\n",
       "      <td>False</td>\n",
       "      <td>False</td>\n",
       "      <td>Celeron</td>\n",
       "      <td>False</td>\n",
       "      <td>False</td>\n",
       "      <td>False</td>\n",
       "      <td>False</td>\n",
       "      <td>False</td>\n",
       "      <td>False</td>\n",
       "      <td></td>\n",
       "    </tr>\n",
       "    <tr>\n",
       "      <th>2</th>\n",
       "      <td>New</td>\n",
       "      <td>Asus</td>\n",
       "      <td>8</td>\n",
       "      <td>256</td>\n",
       "      <td>SSD</td>\n",
       "      <td>15.6</td>\n",
       "      <td>No</td>\n",
       "      <td>789.00</td>\n",
       "      <td>Intel</td>\n",
       "      <td>False</td>\n",
       "      <td>...</td>\n",
       "      <td>False</td>\n",
       "      <td>False</td>\n",
       "      <td>i3</td>\n",
       "      <td>False</td>\n",
       "      <td>False</td>\n",
       "      <td>False</td>\n",
       "      <td>False</td>\n",
       "      <td>False</td>\n",
       "      <td>False</td>\n",
       "      <td></td>\n",
       "    </tr>\n",
       "    <tr>\n",
       "      <th>3</th>\n",
       "      <td>New</td>\n",
       "      <td>MSI</td>\n",
       "      <td>16</td>\n",
       "      <td>1000</td>\n",
       "      <td>SSD</td>\n",
       "      <td>15.6</td>\n",
       "      <td>No</td>\n",
       "      <td>1199.00</td>\n",
       "      <td>Intel</td>\n",
       "      <td>False</td>\n",
       "      <td>...</td>\n",
       "      <td>False</td>\n",
       "      <td>False</td>\n",
       "      <td>i7</td>\n",
       "      <td>True</td>\n",
       "      <td>False</td>\n",
       "      <td>False</td>\n",
       "      <td>False</td>\n",
       "      <td>False</td>\n",
       "      <td>False</td>\n",
       "      <td>3050</td>\n",
       "    </tr>\n",
       "    <tr>\n",
       "      <th>4</th>\n",
       "      <td>New</td>\n",
       "      <td>HP</td>\n",
       "      <td>16</td>\n",
       "      <td>512</td>\n",
       "      <td>SSD</td>\n",
       "      <td>15.6</td>\n",
       "      <td>No</td>\n",
       "      <td>669.01</td>\n",
       "      <td>Intel</td>\n",
       "      <td>False</td>\n",
       "      <td>...</td>\n",
       "      <td>False</td>\n",
       "      <td>False</td>\n",
       "      <td>i5</td>\n",
       "      <td>False</td>\n",
       "      <td>False</td>\n",
       "      <td>False</td>\n",
       "      <td>False</td>\n",
       "      <td>False</td>\n",
       "      <td>False</td>\n",
       "      <td></td>\n",
       "    </tr>\n",
       "    <tr>\n",
       "      <th>...</th>\n",
       "      <td>...</td>\n",
       "      <td>...</td>\n",
       "      <td>...</td>\n",
       "      <td>...</td>\n",
       "      <td>...</td>\n",
       "      <td>...</td>\n",
       "      <td>...</td>\n",
       "      <td>...</td>\n",
       "      <td>...</td>\n",
       "      <td>...</td>\n",
       "      <td>...</td>\n",
       "      <td>...</td>\n",
       "      <td>...</td>\n",
       "      <td>...</td>\n",
       "      <td>...</td>\n",
       "      <td>...</td>\n",
       "      <td>...</td>\n",
       "      <td>...</td>\n",
       "      <td>...</td>\n",
       "      <td>...</td>\n",
       "      <td>...</td>\n",
       "    </tr>\n",
       "    <tr>\n",
       "      <th>2155</th>\n",
       "      <td>Refurbished</td>\n",
       "      <td>Razer</td>\n",
       "      <td>16</td>\n",
       "      <td>1000</td>\n",
       "      <td>SSD</td>\n",
       "      <td>17.3</td>\n",
       "      <td>No</td>\n",
       "      <td>2699.99</td>\n",
       "      <td>Intel</td>\n",
       "      <td>False</td>\n",
       "      <td>...</td>\n",
       "      <td>False</td>\n",
       "      <td>False</td>\n",
       "      <td>i7</td>\n",
       "      <td>True</td>\n",
       "      <td>False</td>\n",
       "      <td>False</td>\n",
       "      <td>False</td>\n",
       "      <td>False</td>\n",
       "      <td>False</td>\n",
       "      <td>3060</td>\n",
       "    </tr>\n",
       "    <tr>\n",
       "      <th>2156</th>\n",
       "      <td>Refurbished</td>\n",
       "      <td>Razer</td>\n",
       "      <td>16</td>\n",
       "      <td>1000</td>\n",
       "      <td>SSD</td>\n",
       "      <td>17.3</td>\n",
       "      <td>No</td>\n",
       "      <td>2899.99</td>\n",
       "      <td>Intel</td>\n",
       "      <td>False</td>\n",
       "      <td>...</td>\n",
       "      <td>False</td>\n",
       "      <td>False</td>\n",
       "      <td>i7</td>\n",
       "      <td>True</td>\n",
       "      <td>False</td>\n",
       "      <td>False</td>\n",
       "      <td>False</td>\n",
       "      <td>False</td>\n",
       "      <td>False</td>\n",
       "      <td>3070</td>\n",
       "    </tr>\n",
       "    <tr>\n",
       "      <th>2157</th>\n",
       "      <td>Refurbished</td>\n",
       "      <td>Razer</td>\n",
       "      <td>32</td>\n",
       "      <td>1000</td>\n",
       "      <td>SSD</td>\n",
       "      <td>17.3</td>\n",
       "      <td>No</td>\n",
       "      <td>3399.99</td>\n",
       "      <td>Intel</td>\n",
       "      <td>False</td>\n",
       "      <td>...</td>\n",
       "      <td>False</td>\n",
       "      <td>False</td>\n",
       "      <td>i7</td>\n",
       "      <td>True</td>\n",
       "      <td>False</td>\n",
       "      <td>False</td>\n",
       "      <td>False</td>\n",
       "      <td>False</td>\n",
       "      <td>False</td>\n",
       "      <td>3080</td>\n",
       "    </tr>\n",
       "    <tr>\n",
       "      <th>2158</th>\n",
       "      <td>Refurbished</td>\n",
       "      <td>Razer</td>\n",
       "      <td>16</td>\n",
       "      <td>1000</td>\n",
       "      <td>SSD</td>\n",
       "      <td>13.4</td>\n",
       "      <td>Yes</td>\n",
       "      <td>1899.99</td>\n",
       "      <td>Intel</td>\n",
       "      <td>True</td>\n",
       "      <td>...</td>\n",
       "      <td>False</td>\n",
       "      <td>False</td>\n",
       "      <td>i7</td>\n",
       "      <td>False</td>\n",
       "      <td>False</td>\n",
       "      <td>False</td>\n",
       "      <td>False</td>\n",
       "      <td>False</td>\n",
       "      <td>False</td>\n",
       "      <td></td>\n",
       "    </tr>\n",
       "    <tr>\n",
       "      <th>2159</th>\n",
       "      <td>Refurbished</td>\n",
       "      <td>Razer</td>\n",
       "      <td>16</td>\n",
       "      <td>256</td>\n",
       "      <td>SSD</td>\n",
       "      <td>13.4</td>\n",
       "      <td>Yes</td>\n",
       "      <td>1699.99</td>\n",
       "      <td>Intel</td>\n",
       "      <td>True</td>\n",
       "      <td>...</td>\n",
       "      <td>False</td>\n",
       "      <td>False</td>\n",
       "      <td>i7</td>\n",
       "      <td>False</td>\n",
       "      <td>False</td>\n",
       "      <td>False</td>\n",
       "      <td>False</td>\n",
       "      <td>False</td>\n",
       "      <td>False</td>\n",
       "      <td></td>\n",
       "    </tr>\n",
       "  </tbody>\n",
       "</table>\n",
       "<p>2033 rows × 21 columns</p>\n",
       "</div>"
      ],
      "text/plain": [
       "           Status   Brand  RAM  Storage Storage type  Screen Touch  \\\n",
       "0             New    Asus    8      512          SSD    15.6    No   \n",
       "1             New  Alurin    8      256          SSD    15.6    No   \n",
       "2             New    Asus    8      256          SSD    15.6    No   \n",
       "3             New     MSI   16     1000          SSD    15.6    No   \n",
       "4             New      HP   16      512          SSD    15.6    No   \n",
       "...           ...     ...  ...      ...          ...     ...   ...   \n",
       "2155  Refurbished   Razer   16     1000          SSD    17.3    No   \n",
       "2156  Refurbished   Razer   16     1000          SSD    17.3    No   \n",
       "2157  Refurbished   Razer   32     1000          SSD    17.3    No   \n",
       "2158  Refurbished   Razer   16     1000          SSD    13.4   Yes   \n",
       "2159  Refurbished   Razer   16      256          SSD    13.4   Yes   \n",
       "\n",
       "      Final Price CPU_brand  Evo_model  ...  Radeon_model  Ryzen_model  \\\n",
       "0         1009.00     Intel      False  ...         False        False   \n",
       "1          299.00     Intel      False  ...         False        False   \n",
       "2          789.00     Intel      False  ...         False        False   \n",
       "3         1199.00     Intel      False  ...         False        False   \n",
       "4          669.01     Intel      False  ...         False        False   \n",
       "...           ...       ...        ...  ...           ...          ...   \n",
       "2155      2699.99     Intel      False  ...         False        False   \n",
       "2156      2899.99     Intel      False  ...         False        False   \n",
       "2157      3399.99     Intel      False  ...         False        False   \n",
       "2158      1899.99     Intel       True  ...         False        False   \n",
       "2159      1699.99     Intel       True  ...         False        False   \n",
       "\n",
       "      CPU_model RTX_model  GTX_model  MX_model  RX_model  T_model  A_model  \\\n",
       "0            i5     False      False     False     False    False    False   \n",
       "1       Celeron     False      False     False     False    False    False   \n",
       "2            i3     False      False     False     False    False    False   \n",
       "3            i7      True      False     False     False    False    False   \n",
       "4            i5     False      False     False     False    False    False   \n",
       "...         ...       ...        ...       ...       ...      ...      ...   \n",
       "2155         i7      True      False     False     False    False    False   \n",
       "2156         i7      True      False     False     False    False    False   \n",
       "2157         i7      True      False     False     False    False    False   \n",
       "2158         i7     False      False     False     False    False    False   \n",
       "2159         i7     False      False     False     False    False    False   \n",
       "\n",
       "      GPU_model  \n",
       "0                \n",
       "1                \n",
       "2                \n",
       "3          3050  \n",
       "4                \n",
       "...         ...  \n",
       "2155       3060  \n",
       "2156       3070  \n",
       "2157       3080  \n",
       "2158             \n",
       "2159             \n",
       "\n",
       "[2033 rows x 21 columns]"
      ]
     },
     "execution_count": 31,
     "metadata": {},
     "output_type": "execute_result"
    }
   ],
   "source": [
    "data"
   ]
  },
  {
   "cell_type": "code",
   "execution_count": 32,
   "id": "a77d280e",
   "metadata": {},
   "outputs": [],
   "source": [
    "# encoder = OneHotEncoder(sparse=False)\n",
    "col_to_encode = []\n",
    "for col in data.columns:\n",
    "    if data[col].dtype == 'object':\n",
    "        col_to_encode.append(col)\n",
    "\n",
    "\n",
    "data = pd.get_dummies(data, columns=col_to_encode)"
   ]
  },
  {
   "cell_type": "markdown",
   "id": "6c0cca5f",
   "metadata": {},
   "source": [
    "# Model Data"
   ]
  },
  {
   "cell_type": "code",
   "execution_count": 33,
   "id": "add36ab0",
   "metadata": {},
   "outputs": [],
   "source": [
    "X = data.drop(columns=['Final Price'])\n",
    "y = np.log(data['Final Price'])"
   ]
  },
  {
   "cell_type": "code",
   "execution_count": 34,
   "id": "3d343097",
   "metadata": {},
   "outputs": [],
   "source": [
    "X_train,X_test,y_train,y_test = train_test_split(X,y,test_size=0.15,random_state=1)"
   ]
  },
  {
   "cell_type": "markdown",
   "id": "b5660caa",
   "metadata": {},
   "source": [
    "### Linear Regression"
   ]
  },
  {
   "cell_type": "code",
   "execution_count": 35,
   "id": "63b50f33",
   "metadata": {},
   "outputs": [
    {
     "name": "stdout",
     "output_type": "stream",
     "text": [
      "R2 score 0.8093255088772433\n",
      "MAE 0.20838780029143134\n"
     ]
    }
   ],
   "source": [
    "lr = LinearRegression()\n",
    "\n",
    "lr.fit(X_train, y_train)\n",
    "\n",
    "y_pred_lr = lr.predict(X_test)\n",
    "\n",
    "print('R2 score',r2_score(y_test,y_pred_lr))\n",
    "print('MAE',mean_absolute_error(y_test,y_pred_lr))"
   ]
  },
  {
   "cell_type": "markdown",
   "id": "9ea03e76",
   "metadata": {},
   "source": [
    "### Decision Tree Regressor"
   ]
  },
  {
   "cell_type": "code",
   "execution_count": 36,
   "id": "abd634f8",
   "metadata": {},
   "outputs": [
    {
     "name": "stdout",
     "output_type": "stream",
     "text": [
      "R2 score 0.758281148966192\n",
      "MAE 0.2201856312343934\n"
     ]
    }
   ],
   "source": [
    "dt = DecisionTreeRegressor(criterion='squared_error', max_depth=25, max_features=16)\n",
    "\n",
    "dt.fit(X_train, y_train)\n",
    "\n",
    "y_pred_dt = dt.predict(X_test)\n",
    "\n",
    "print('R2 score',r2_score(y_test,y_pred_dt))\n",
    "print('MAE',mean_absolute_error(y_test,y_pred_dt))"
   ]
  },
  {
   "cell_type": "markdown",
   "id": "641c46eb",
   "metadata": {},
   "source": [
    "### AdaBoost Regressor"
   ]
  },
  {
   "cell_type": "code",
   "execution_count": 37,
   "id": "d95b74ad",
   "metadata": {},
   "outputs": [
    {
     "name": "stdout",
     "output_type": "stream",
     "text": [
      "R2 score 0.7073866913709199\n",
      "MAE 0.27660629962618033\n"
     ]
    }
   ],
   "source": [
    "ad = AdaBoostRegressor()\n",
    "\n",
    "ad.fit(X_train, y_train)\n",
    "\n",
    "y_pred_ad = ad.predict(X_test)\n",
    "\n",
    "print('R2 score',r2_score(y_test,y_pred_ad))\n",
    "print('MAE',mean_absolute_error(y_test,y_pred_ad))"
   ]
  },
  {
   "cell_type": "markdown",
   "id": "59d6b9a8",
   "metadata": {},
   "source": [
    "### Gradient Boosting Regressor"
   ]
  },
  {
   "cell_type": "code",
   "execution_count": 38,
   "id": "bcbff172",
   "metadata": {},
   "outputs": [
    {
     "name": "stdout",
     "output_type": "stream",
     "text": [
      "R2 score 0.850047785386959\n",
      "MAE 0.17957644725598929\n"
     ]
    }
   ],
   "source": [
    "gb = GradientBoostingRegressor(n_estimators=150, max_depth=7)\n",
    "\n",
    "gb.fit(X_train, y_train)\n",
    "\n",
    "y_pred_gb = gb.predict(X_test)\n",
    "\n",
    "print('R2 score',r2_score(y_test,y_pred_gb))\n",
    "print('MAE',mean_absolute_error(y_test,y_pred_gb))"
   ]
  },
  {
   "cell_type": "markdown",
   "id": "0ae9fcec",
   "metadata": {},
   "source": [
    "### ExtraTrees Regressor"
   ]
  },
  {
   "cell_type": "code",
   "execution_count": 39,
   "id": "a3c9d1fb",
   "metadata": {},
   "outputs": [
    {
     "name": "stdout",
     "output_type": "stream",
     "text": [
      "R2 score 0.8152251707805155\n",
      "MAE 0.19703958625214038\n"
     ]
    }
   ],
   "source": [
    "et = ExtraTreesRegressor(n_estimators=200, max_depth=17)\n",
    "\n",
    "et.fit(X_train, y_train)\n",
    "\n",
    "y_pred_et = et.predict(X_test)\n",
    "\n",
    "print('R2 score',r2_score(y_test,y_pred_et))\n",
    "print('MAE',mean_absolute_error(y_test,y_pred_et))"
   ]
  },
  {
   "cell_type": "markdown",
   "id": "53180efc",
   "metadata": {},
   "source": [
    "### XGBRegressor"
   ]
  },
  {
   "cell_type": "code",
   "execution_count": 40,
   "id": "2dc38732",
   "metadata": {},
   "outputs": [
    {
     "name": "stdout",
     "output_type": "stream",
     "text": [
      "R2 score 0.8445652587170106\n",
      "MAE 0.18054872569010774\n"
     ]
    }
   ],
   "source": [
    "from xgboost import XGBRegressor\n",
    "\n",
    "step2 = XGBRegressor()\n",
    "\n",
    "pipe = Pipeline([\n",
    "    ('step2',step2)\n",
    "])\n",
    "\n",
    "pipe.fit(X_train,y_train)\n",
    "\n",
    "y_pred = pipe.predict(X_test)\n",
    "\n",
    "print('R2 score',r2_score(y_test,y_pred))\n",
    "print('MAE',mean_absolute_error(y_test,y_pred))"
   ]
  },
  {
   "cell_type": "markdown",
   "id": "10d87059",
   "metadata": {},
   "source": [
    "### XGBRegressor\n",
    "applying *GridSearchCV* on XGBRegressor for `Hyperparameter tuning`"
   ]
  },
  {
   "cell_type": "code",
   "execution_count": 37,
   "id": "3b9c5dbf",
   "metadata": {},
   "outputs": [],
   "source": [
    "# param_grid = {\n",
    "#     'n_estimators': [100, 200, 300],\n",
    "#     'max_depth': [3, 5, 7],\n",
    "#     'subsample': [0.6, 0.8, 1.0],\n",
    "# }\n",
    "\n",
    "# xgb_regressor = xgb.XGBRegressor(random_state=7)\n",
    "\n",
    "# grid_search = GridSearchCV(estimator=xgb_regressor, param_grid=param_grid, cv=5, verbose=2, n_jobs=-1)\n",
    "# grid_search.fit(X_train, y_train)\n",
    "\n",
    "\n",
    "# print(\"Best parameters found: \", grid_search.best_params_)\n",
    "# print(\"Best score: \", grid_search.best_score_)"
   ]
  },
  {
   "cell_type": "code",
   "execution_count": 41,
   "id": "02db7153",
   "metadata": {},
   "outputs": [
    {
     "name": "stdout",
     "output_type": "stream",
     "text": [
      "R2 score 0.8471479961630588\n",
      "MAE 0.18050793581294697\n"
     ]
    }
   ],
   "source": [
    "xg = XGBRegressor(n_estimators=200, subsample=1, max_depth=3)\n",
    "\n",
    "\n",
    "xg.fit(X_train,y_train)\n",
    "\n",
    "y_pred_xg = xg.predict(X_test)\n",
    "\n",
    "print('R2 score',r2_score(y_test,y_pred_xg))\n",
    "print('MAE',mean_absolute_error(y_test,y_pred_xg))"
   ]
  },
  {
   "cell_type": "markdown",
   "id": "c590a6cc",
   "metadata": {},
   "source": [
    "### Random Forest Regressor\n",
    "applying *GridSearchCV* on RandomForestRegressor for `Hyperparameter tuning`"
   ]
  },
  {
   "cell_type": "code",
   "execution_count": 39,
   "id": "a86aeb7d",
   "metadata": {},
   "outputs": [],
   "source": [
    "# param_grid = {\n",
    "#     'n_estimators': [100, 150, 200, 250],\n",
    "#     'max_depth': [10, 15, 18, 20, 25],\n",
    "#     'max_samples': [0.3, 0.4, 0.8],\n",
    "#     'max_features': [0.05, 0.08, 0.1]\n",
    "# }\n",
    "\n",
    "# rf_regressor = RandomForestRegressor(random_state=7)\n",
    "\n",
    "# grid_search = GridSearchCV(estimator=rf_regressor,\n",
    "#                            param_grid=param_grid,\n",
    "#                            cv=5,\n",
    "#                            verbose=2,\n",
    "#                            n_jobs=-1)\n",
    "\n",
    "# grid_search.fit(X_train, y_train)\n",
    "\n",
    "# print(\"Best parameters found: \", grid_search.best_params_)\n",
    "# print(\"Best score: \", grid_search.best_score_)"
   ]
  },
  {
   "cell_type": "code",
   "execution_count": 42,
   "id": "621d26ab",
   "metadata": {},
   "outputs": [
    {
     "name": "stdout",
     "output_type": "stream",
     "text": [
      "R2 score 0.8500343140515466\n",
      "MAE 0.18406006370622613\n"
     ]
    }
   ],
   "source": [
    "rf = RandomForestRegressor(n_estimators=300,\n",
    "                              random_state=6,\n",
    "                              max_samples=.6,\n",
    "                              max_features=0.08,\n",
    "                              max_depth=21)\n",
    "\n",
    "rf.fit(X_train,y_train)\n",
    "\n",
    "y_pred_rf = rf.predict(X_test)\n",
    "\n",
    "print('R2 score',r2_score(y_test,y_pred_rf))\n",
    "print('MAE',mean_absolute_error(y_test,y_pred_rf))"
   ]
  },
  {
   "cell_type": "markdown",
   "id": "ca9f5c26",
   "metadata": {},
   "source": [
    "So far, the best accuracy is obtained by `RandomForestRegression` followed by `GradientBoostRegression`. Hence, we use RandomForestRegression for model preperation."
   ]
  },
  {
   "cell_type": "markdown",
   "id": "a3e2f14f",
   "metadata": {},
   "source": []
  }
 ],
 "metadata": {
  "kernelspec": {
   "display_name": "Python 3 (ipykernel)",
   "language": "python",
   "name": "python3"
  },
  "language_info": {
   "codemirror_mode": {
    "name": "ipython",
    "version": 3
   },
   "file_extension": ".py",
   "mimetype": "text/x-python",
   "name": "python",
   "nbconvert_exporter": "python",
   "pygments_lexer": "ipython3",
   "version": "3.12.0"
  }
 },
 "nbformat": 4,
 "nbformat_minor": 5
}
